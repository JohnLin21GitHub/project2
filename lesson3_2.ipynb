{
 "cells": [
  {
   "cell_type": "code",
   "execution_count": 2,
   "metadata": {},
   "outputs": [
    {
     "name": "stdout",
     "output_type": "stream",
     "text": [
      "獎金500\n"
     ]
    }
   ],
   "source": [
    "chinese = int(input(\"chinese score:\"))\n",
    "english = int(input(\"english score:\"))\n",
    "bonus=0\n",
    "if chinese==100 and english==100:\n",
    "    bonus=1000\n",
    "elif chinese==100 or english==100:\n",
    "    bonus=500\n",
    "else:\n",
    "    bonus=0\n",
    "\n",
    "print (f\"獎金{bonus}\")"
   ]
  },
  {
   "cell_type": "code",
   "execution_count": 7,
   "metadata": {},
   "outputs": [
    {
     "name": "stdout",
     "output_type": "stream",
     "text": [
      "bmi=24.44\n",
      "過重\n"
     ]
    }
   ],
   "source": [
    "height = eval(input(\"身高:\"))\n",
    "weight = eval(input(\"體重:\"))\n",
    "\n",
    "bmi = weight/(height/100)**2\n",
    "print(f\"bmi={bmi:.2f}\")\n",
    "\n",
    "if bmi<18.5:\n",
    "    print(\"體重過輕\")\n",
    "elif bmi<24:\n",
    "    print(\"正常\")\n",
    "elif bmi<27:\n",
    "    print(\"過重\")\n",
    "elif bmi<30:\n",
    "    print(\"輕度肥胖\")\n",
    "elif bmi<35:\n",
    "    print(\"中度肥胖\")\n",
    "else:\n",
    "    print(\"重度肥胖\")\n",
    "\n",
    "print(\"the end\")\n"
   ]
  }
 ],
 "metadata": {
  "kernelspec": {
   "display_name": "Python 3.10.8 64-bit",
   "language": "python",
   "name": "python3"
  },
  "language_info": {
   "codemirror_mode": {
    "name": "ipython",
    "version": 3
   },
   "file_extension": ".py",
   "mimetype": "text/x-python",
   "name": "python",
   "nbconvert_exporter": "python",
   "pygments_lexer": "ipython3",
   "version": "3.10.8"
  },
  "orig_nbformat": 4,
  "vscode": {
   "interpreter": {
    "hash": "2cecb92da02c8b98f4101d22276476b1c28eb527ceb2bbde7375dd542609dce3"
   }
  }
 },
 "nbformat": 4,
 "nbformat_minor": 2
}
