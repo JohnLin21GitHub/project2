{
 "cells": [
  {
   "cell_type": "code",
   "execution_count": 4,
   "metadata": {},
   "outputs": [
    {
     "name": "stdout",
     "output_type": "stream",
     "text": [
      "<class 'str'>\n"
     ]
    }
   ],
   "source": [
    "name=input(\"please輸入姓名\")\n",
    "print(type(name))"
   ]
  },
  {
   "cell_type": "code",
   "execution_count": 5,
   "metadata": {},
   "outputs": [
    {
     "name": "stdout",
     "output_type": "stream",
     "text": [
      "your name is 123\n"
     ]
    }
   ],
   "source": [
    "print(f\"your name is {name}\")"
   ]
  },
  {
   "cell_type": "code",
   "execution_count": 6,
   "metadata": {},
   "outputs": [
    {
     "name": "stdout",
     "output_type": "stream",
     "text": [
      "姓名123\n",
      "國文78,英文60\n"
     ]
    }
   ],
   "source": [
    "chinese=78\n",
    "english=60\n",
    "sum=chinese+english\n",
    "avg=sum/2\n",
    "print(f\"姓名{name}\")\n",
    "print(f\"國文{chinese},英文{english}\")"
   ]
  },
  {
   "cell_type": "code",
   "execution_count": 15,
   "metadata": {},
   "outputs": [
    {
     "name": "stdout",
     "output_type": "stream",
     "text": [
      "國文分數是87,英文分數是87.5,總分是174.5\n"
     ]
    }
   ],
   "source": [
    "chinese = eval(input(\"請輸入國文成績:\"))\n",
    "english = eval(input(\"請輸入英文分數\"))\n",
    "\n",
    "#sum = chinese + english\n",
    "print(f\"國文分數是{chinese},英文分數是{english},總分是{chinese + english}\")\n"
   ]
  },
  {
   "cell_type": "code",
   "execution_count": 1,
   "metadata": {},
   "outputs": [
    {
     "name": "stdout",
     "output_type": "stream",
     "text": [
      "面積=300.0\n"
     ]
    }
   ],
   "source": [
    "top = eval(input(\"上底\"))\n",
    "bot = eval(input(\"下底\"))\n",
    "height = eval(input(\"高\"))\n",
    "print(f\"面積={(top+bot)*height/2}\")\n"
   ]
  },
  {
   "cell_type": "code",
   "execution_count": 22,
   "metadata": {},
   "outputs": [
    {
     "data": {
      "text/plain": [
       "46"
      ]
     },
     "execution_count": 22,
     "metadata": {},
     "output_type": "execute_result"
    }
   ],
   "source": [
    "import math\n",
    "math.ceil(45.1)"
   ]
  }
 ],
 "metadata": {
  "kernelspec": {
   "display_name": "Python 3.10.8 64-bit",
   "language": "python",
   "name": "python3"
  },
  "language_info": {
   "codemirror_mode": {
    "name": "ipython",
    "version": 3
   },
   "file_extension": ".py",
   "mimetype": "text/x-python",
   "name": "python",
   "nbconvert_exporter": "python",
   "pygments_lexer": "ipython3",
   "version": "3.10.8"
  },
  "orig_nbformat": 4,
  "vscode": {
   "interpreter": {
    "hash": "2cecb92da02c8b98f4101d22276476b1c28eb527ceb2bbde7375dd542609dce3"
   }
  }
 },
 "nbformat": 4,
 "nbformat_minor": 2
}
