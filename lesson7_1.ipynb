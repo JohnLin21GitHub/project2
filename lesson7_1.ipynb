{
 "cells": [
  {
   "cell_type": "code",
   "execution_count": 1,
   "metadata": {},
   "outputs": [
    {
     "name": "stdout",
     "output_type": "stream",
     "text": [
      "hello python\n"
     ]
    }
   ],
   "source": [
    "print(\"hello python\")"
   ]
  },
  {
   "cell_type": "code",
   "execution_count": 2,
   "metadata": {},
   "outputs": [],
   "source": [
    "def menu(wine,entree,dessert):\n",
    "    print(f\"wine={wine}\")\n",
    "    print(f\"entree={entree}\")\n",
    "    print(f\"dessert={dessert}\")"
   ]
  },
  {
   "cell_type": "code",
   "execution_count": 4,
   "metadata": {},
   "outputs": [
    {
     "name": "stdout",
     "output_type": "stream",
     "text": [
      "wine=白酒\n",
      "entree=牛排\n",
      "dessert=蛋糕\n"
     ]
    }
   ],
   "source": [
    "#引數位置呼叫，依順序\n",
    "menu(\"白酒\",\"牛排\",\"蛋糕\")"
   ]
  },
  {
   "cell_type": "code",
   "execution_count": 5,
   "metadata": {},
   "outputs": [
    {
     "name": "stdout",
     "output_type": "stream",
     "text": [
      "wine=白酒\n",
      "entree=蛋糕\n",
      "dessert=牛排\n"
     ]
    }
   ],
   "source": [
    "#引數名稱呼叫\n",
    "menu(wine=\"白酒\",dessert=\"牛排\",entree=\"蛋糕\")"
   ]
  }
 ],
 "metadata": {
  "kernelspec": {
   "display_name": "Python 3.10.8 ('venv01')",
   "language": "python",
   "name": "python3"
  },
  "language_info": {
   "codemirror_mode": {
    "name": "ipython",
    "version": 3
   },
   "file_extension": ".py",
   "mimetype": "text/x-python",
   "name": "python",
   "nbconvert_exporter": "python",
   "pygments_lexer": "ipython3",
   "version": "3.10.8"
  },
  "orig_nbformat": 4,
  "vscode": {
   "interpreter": {
    "hash": "c75829f2151f3f36b4a5964e8dde46fe1bf88775e734d6015356b3600542f882"
   }
  }
 },
 "nbformat": 4,
 "nbformat_minor": 2
}
