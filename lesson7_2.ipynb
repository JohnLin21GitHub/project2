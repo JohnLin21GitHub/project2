{
 "cells": [
  {
   "cell_type": "code",
   "execution_count": 1,
   "metadata": {},
   "outputs": [],
   "source": [
    "#參數若有預設值，一定放最後\n",
    "def menu(wine,entree,dessert='奶昔'):\n",
    "    print(f\"wine={wine}\")\n",
    "    print(f\"entree={entree}\")\n",
    "    print(f\"dessert={dessert}\")"
   ]
  },
  {
   "cell_type": "code",
   "execution_count": 2,
   "metadata": {},
   "outputs": [
    {
     "name": "stdout",
     "output_type": "stream",
     "text": [
      "wine=紅酒\n",
      "entree=雞排\n",
      "dessert=奶昔\n"
     ]
    }
   ],
   "source": [
    "menu('紅酒',\"雞排\")"
   ]
  },
  {
   "cell_type": "code",
   "execution_count": 4,
   "metadata": {},
   "outputs": [
    {
     "name": "stdout",
     "output_type": "stream",
     "text": [
      "wine=紅酒\n",
      "entree=雞排\n",
      "dessert=蛋糕\n"
     ]
    }
   ],
   "source": [
    "menu('紅酒',\"雞排\",dessert=\"蛋糕\")"
   ]
  }
 ],
 "metadata": {
  "kernelspec": {
   "display_name": "Python 3.10.8 ('venv01')",
   "language": "python",
   "name": "python3"
  },
  "language_info": {
   "codemirror_mode": {
    "name": "ipython",
    "version": 3
   },
   "file_extension": ".py",
   "mimetype": "text/x-python",
   "name": "python",
   "nbconvert_exporter": "python",
   "pygments_lexer": "ipython3",
   "version": "3.10.8"
  },
  "orig_nbformat": 4,
  "vscode": {
   "interpreter": {
    "hash": "c75829f2151f3f36b4a5964e8dde46fe1bf88775e734d6015356b3600542f882"
   }
  }
 },
 "nbformat": 4,
 "nbformat_minor": 2
}
