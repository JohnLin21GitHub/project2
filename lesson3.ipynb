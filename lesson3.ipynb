{
 "cells": [
  {
   "cell_type": "code",
   "execution_count": 1,
   "metadata": {},
   "outputs": [
    {
     "name": "stdout",
     "output_type": "stream",
     "text": [
      "Hello! python\n"
     ]
    }
   ],
   "source": [
    "print(\"Hello! python\")"
   ]
  },
  {
   "cell_type": "code",
   "execution_count": 3,
   "metadata": {},
   "outputs": [
    {
     "data": {
      "text/plain": [
       "False"
      ]
     },
     "execution_count": 3,
     "metadata": {},
     "output_type": "execute_result"
    }
   ],
   "source": [
    "x=7\n",
    "x==5  # this is memo "
   ]
  },
  {
   "cell_type": "code",
   "execution_count": 4,
   "metadata": {},
   "outputs": [
    {
     "data": {
      "text/plain": [
       "True"
      ]
     },
     "execution_count": 4,
     "metadata": {},
     "output_type": "execute_result"
    }
   ],
   "source": [
    "x==7"
   ]
  },
  {
   "cell_type": "code",
   "execution_count": 8,
   "metadata": {},
   "outputs": [
    {
     "ename": "ValueError",
     "evalue": "invalid literal for int() with base 10: 'k'",
     "output_type": "error",
     "traceback": [
      "\u001b[1;31m---------------------------------------------------------------------------\u001b[0m",
      "\u001b[1;31mValueError\u001b[0m                                Traceback (most recent call last)",
      "Cell \u001b[1;32mIn [8], line 2\u001b[0m\n\u001b[0;32m      1\u001b[0m chinese_str\u001b[39m=\u001b[39m\u001b[39minput\u001b[39m(\u001b[39m\"\u001b[39m\u001b[39mplease input chinese score:\u001b[39m\u001b[39m\"\u001b[39m)\n\u001b[1;32m----> 2\u001b[0m chinese_int\u001b[39m=\u001b[39m\u001b[39mint\u001b[39;49m(chinese_str)\n\u001b[0;32m      3\u001b[0m \u001b[39mif\u001b[39;00m chinese_int\u001b[39m>\u001b[39m\u001b[39m=\u001b[39m\u001b[39m60\u001b[39m:\n\u001b[0;32m      4\u001b[0m     \u001b[39mprint\u001b[39m(\u001b[39mf\u001b[39m\u001b[39m\"\u001b[39m\u001b[39m國文\u001b[39m\u001b[39m{\u001b[39;00mchinese_int\u001b[39m}\u001b[39;00m\u001b[39m\"\u001b[39m)\n",
      "\u001b[1;31mValueError\u001b[0m: invalid literal for int() with base 10: 'k'"
     ]
    }
   ],
   "source": [
    "chinese_str=input(\"please input chinese score:\")\n",
    "chinese_int=int(chinese_str)\n",
    "if chinese_int>=60:\n",
    "    print(f\"國文{chinese_int}\")\n",
    "    print(\"及格\")\n",
    "else:\n",
    "    print(\"不及格\")\n",
    "print(\"the end!!\")"
   ]
  },
  {
   "cell_type": "code",
   "execution_count": 10,
   "metadata": {},
   "outputs": [
    {
     "name": "stdout",
     "output_type": "stream",
     "text": [
      "丁\n",
      "the end!!\n"
     ]
    }
   ],
   "source": [
    "'''\n",
    "123kk\n",
    "'''\n",
    "chinese=int(input(\"please input chinese score:\"))\n",
    "if chinese>=90:\n",
    "    print(f\"國文{chinese_int}\")\n",
    "    print(\"優\")\n",
    "elif chinese>=80:\n",
    "    print(f\"國文{chinese_int}\")\n",
    "    print(\"甲\")\n",
    "elif chinese>=70:\n",
    "    print(f\"國文{chinese_int}\")\n",
    "    print(\"乙\")\n",
    "elif chinese>=60:\n",
    "    print(f\"國文{chinese_int}\")\n",
    "    print(\"丙\")\n",
    "else:\n",
    "    pass\n",
    "    print(\"丁\")\n",
    "print(\"the end!!\")"
   ]
  },
  {
   "cell_type": "code",
   "execution_count": 12,
   "metadata": {},
   "outputs": [
    {
     "name": "stdout",
     "output_type": "stream",
     "text": [
      "104000.0the end!!\n"
     ]
    }
   ],
   "source": [
    "#作業\n",
    "'''\n",
    "輸入顧客購買金額，若金額在\n",
    "100000元打8折. \n",
    "50000打85折. \n",
    "30000打9折. \n",
    "10000打95折. \n",
    "\n",
    "請輸入購買金額:130000\n",
    "實付金額是: 104000.0 元\n",
    "'''\n",
    "amt=int(input(\"請輸入購買金額:\"))\n",
    "if amt>=100000:\n",
    "    realAmt=amt*0.8\n",
    "elif amt>=50000:\n",
    "    print(f\"國文{chinese_int}\")\n",
    "    print(\"甲\")\n",
    "elif amt>=30000:\n",
    "    print(f\"國文{chinese_int}\")\n",
    "    print(\"乙\")\n",
    "elif amt>=10000:\n",
    "    print(f\"國文{chinese_int}\")\n",
    "    print(\"丙\")\n",
    "\n",
    "print(f\"{realAmt}the end!!\")"
   ]
  },
  {
   "cell_type": "code",
   "execution_count": 13,
   "metadata": {},
   "outputs": [
    {
     "name": "stdout",
     "output_type": "stream",
     "text": [
      "獎金500\n"
     ]
    }
   ],
   "source": [
    "chinese = int(input(\"chinese score:\"))\n",
    "english = int(input(\"english score:\"))\n",
    "bonus=0\n",
    "if chinese==100:\n",
    "    if english==100:\n",
    "        bonus=1000\n",
    "    else:\n",
    "        bonus=500\n",
    "else:\n",
    "    if english==100:\n",
    "        bonus=500\n",
    "    else:\n",
    "        bonus=00\n",
    "\n",
    "print (f\"獎金{bonus}\")\n"
   ]
  },
  {
   "cell_type": "code",
   "execution_count": null,
   "metadata": {},
   "outputs": [],
   "source": [
    "x = int(input(\"x:\"))\n",
    "y = int(input(\"y:\"))\n",
    "if x>=0:\n",
    "    ans=x"
   ]
  }
 ],
 "metadata": {
  "kernelspec": {
   "display_name": "Python 3.10.8 64-bit",
   "language": "python",
   "name": "python3"
  },
  "language_info": {
   "codemirror_mode": {
    "name": "ipython",
    "version": 3
   },
   "file_extension": ".py",
   "mimetype": "text/x-python",
   "name": "python",
   "nbconvert_exporter": "python",
   "pygments_lexer": "ipython3",
   "version": "3.10.8"
  },
  "orig_nbformat": 4,
  "vscode": {
   "interpreter": {
    "hash": "2cecb92da02c8b98f4101d22276476b1c28eb527ceb2bbde7375dd542609dce3"
   }
  }
 },
 "nbformat": 4,
 "nbformat_minor": 2
}
